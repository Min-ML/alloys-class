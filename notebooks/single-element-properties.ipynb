{
 "cells": [
  {
   "cell_type": "markdown",
   "metadata": {},
   "source": [
    "# Basic single-element properties\n",
    "\n",
    "* Atomic radii, electronic configurations, electronegativities\n",
    "* Melting temperature, phase diagram? or phase at the conditions of interest\n",
    "\n",
    "**Scrape from Wikipedia data pages**"
   ]
  },
  {
   "cell_type": "code",
   "execution_count": 7,
   "metadata": {},
   "outputs": [],
   "source": [
    "import requests\n",
    "from bs4 import BeautifulSoup\n",
    "import pandas"
   ]
  },
  {
   "cell_type": "code",
   "execution_count": 16,
   "metadata": {},
   "outputs": [],
   "source": [
    "# list of web pages to scrape for data\n",
    "\n",
    "urls = {\n",
    "    'radius':'https://en.wikipedia.org/wiki/Atomic_radii_of_the_elements_(data_page)',\n",
    "    'elneg':'https://en.wikipedia.org/wiki/Electronegativities_of_the_elements_(data_page)',\n",
    "    'electron':'https://en.wikipedia.org/wiki/Electron_configurations_of_the_elements_(data_page)',\n",
    "    'ionization_e':'https://en.wikipedia.org/wiki/Ionization_energies_of_the_elements_(data_page)',\n",
    "    'T_m':'https://en.wikipedia.org/wiki/Melting_points_of_the_elements_(data_page)',\n",
    "    'C_p':'https://en.wikipedia.org/wiki/Heat_capacities_of_the_elements_(data_page)'\n",
    "}"
   ]
  },
  {
   "cell_type": "code",
   "execution_count": 19,
   "metadata": {},
   "outputs": [
    {
     "name": "stdout",
     "output_type": "stream",
     "text": [
      "radius 1\n",
      "elneg 2\n",
      "electron 2\n",
      "ionization_e 1\n",
      "T_m 1\n",
      "C_p 1\n"
     ]
    }
   ],
   "source": [
    "for data, url in urls.items():\n",
    "    if len(url) == 0:\n",
    "        continue\n",
    "    page = requests.get(url).text\n",
    "    soup = BeautifulSoup(page, 'lxml')\n",
    "    #tables = soup.find_all('table',{'class':'wikitable sortable'})\n",
    "    tables = soup.find_all('table',{'class':'wikitable'})\n",
    "    print(data, len(tables))"
   ]
  },
  {
   "cell_type": "code",
   "execution_count": null,
   "metadata": {},
   "outputs": [],
   "source": []
  }
 ],
 "metadata": {
  "kernelspec": {
   "display_name": "Python 3",
   "language": "python",
   "name": "python3"
  },
  "language_info": {
   "codemirror_mode": {
    "name": "ipython",
    "version": 3
   },
   "file_extension": ".py",
   "mimetype": "text/x-python",
   "name": "python",
   "nbconvert_exporter": "python",
   "pygments_lexer": "ipython3",
   "version": "3.6.8"
  }
 },
 "nbformat": 4,
 "nbformat_minor": 2
}
